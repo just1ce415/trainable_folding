{
 "cells": [
  {
   "cell_type": "code",
   "execution_count": 1,
   "id": "f5c47e71",
   "metadata": {},
   "outputs": [
    {
     "name": "stderr",
     "output_type": "stream",
     "text": [
      "RDKit WARNING: [17:19:40] Enabling RDKit 2019.09.3 jupyter extensions\n",
      "[17:19:40] Enabling RDKit 2019.09.3 jupyter extensions\n",
      "/home/ignatovmg/projects/pdb_tools/venv/lib/python3.7/site-packages/Bio/SubsMat/__init__.py:131: BiopythonDeprecationWarning: Bio.SubsMat has been deprecated, and we intend to remove it in a future release of Biopython. As an alternative, please consider using Bio.Align.substitution_matrices as a replacement, and contact the Biopython developers if you still need the Bio.SubsMat module.\n",
      "  BiopythonDeprecationWarning,\n"
     ]
    }
   ],
   "source": [
    "import pandas as pd\n",
    "import numpy as np\n",
    "from glob import glob\n",
    "from path import Path\n",
    "import json\n",
    "import seaborn as sns\n",
    "import prody\n",
    "from multiprocessing import Pool\n",
    "import tqdm\n",
    "import itertools\n",
    "import json\n",
    "from rdkit import Chem\n",
    "from rdkit.Chem import AllChem\n",
    "from io import StringIO\n",
    "from collections import OrderedDict, Counter, defaultdict\n",
    "import traceback\n",
    "import urllib\n",
    "from multiprocessing import Pool\n",
    "import seaborn as sns\n",
    "from copy import deepcopy\n",
    "import pybel\n",
    "import contextlib\n",
    "import subprocess\n",
    "\n",
    "from gemmi import cif\n",
    "\n",
    "from pdbtools import utils"
   ]
  },
  {
   "cell_type": "code",
   "execution_count": null,
   "id": "bbba865a",
   "metadata": {},
   "outputs": [],
   "source": []
  },
  {
   "cell_type": "code",
   "execution_count": 2,
   "id": "e9acdf98",
   "metadata": {},
   "outputs": [],
   "source": [
    "dataset_dir = Path('data')\n",
    "msa_dir = dataset_dir / '15k/folding/MMSEQ_submission_second_try'\n",
    "cif_dir = dataset_dir / '15k/folding/cifs'"
   ]
  },
  {
   "cell_type": "code",
   "execution_count": null,
   "id": "bce8f01a",
   "metadata": {},
   "outputs": [],
   "source": []
  },
  {
   "cell_type": "code",
   "execution_count": 3,
   "id": "23298826",
   "metadata": {},
   "outputs": [
    {
     "name": "stderr",
     "output_type": "stream",
     "text": [
      "100%|█████████████████████████████████████████████████████████████████████████████████████████████████████████████████████████████████████████████████████████████████████████| 1/1 [00:00<00:00, 17.65it/s]\n"
     ]
    },
    {
     "data": {
      "text/plain": [
       "[{'rcsb_cluster_membership': [{'cluster_id': 98, 'identity': 100},\n",
       "   {'cluster_id': 115, 'identity': 95},\n",
       "   {'cluster_id': 122, 'identity': 90},\n",
       "   {'cluster_id': 33, 'identity': 70},\n",
       "   {'cluster_id': 8, 'identity': 50},\n",
       "   {'cluster_id': 14, 'identity': 30}],\n",
       "  'rcsb_polymer_entity_container_identifiers': {'rcsb_id': '4HHB_1'},\n",
       "  'entry': {'exptl': [{'method': 'X-RAY DIFFRACTION'}],\n",
       "   'rcsb_accession_info': {'initial_release_date': '1984-07-17T00:00:00Z',\n",
       "    'deposit_date': '1984-03-07T00:00:00Z'},\n",
       "   'rcsb_entry_info': {'resolution_combined': [1.74]}}},\n",
       " {'rcsb_cluster_membership': [{'cluster_id': 954, 'identity': 100},\n",
       "   {'cluster_id': 1052, 'identity': 95},\n",
       "   {'cluster_id': 1068, 'identity': 90},\n",
       "   {'cluster_id': 1118, 'identity': 70},\n",
       "   {'cluster_id': 1144, 'identity': 50},\n",
       "   {'cluster_id': 860, 'identity': 30}],\n",
       "  'rcsb_polymer_entity_container_identifiers': {'rcsb_id': '1H8E_4'},\n",
       "  'entry': {'exptl': [{'method': 'X-RAY DIFFRACTION'}],\n",
       "   'rcsb_accession_info': {'initial_release_date': '2001-08-10T00:00:00Z',\n",
       "    'deposit_date': '2001-02-02T00:00:00Z'},\n",
       "   'rcsb_entry_info': {'resolution_combined': [2.0]}}}]"
      ]
     },
     "execution_count": 3,
     "metadata": {},
     "output_type": "execute_result"
    }
   ],
   "source": [
    "def format_request(entities):\n",
    "    request = '''\n",
    "    {\n",
    "      polymer_entities(entity_ids: [?]){\n",
    "        rcsb_cluster_membership {\n",
    "          cluster_id,\n",
    "          identity\n",
    "        }\n",
    "        rcsb_polymer_entity_container_identifiers {\n",
    "            rcsb_id\n",
    "        }\n",
    "        entry {\n",
    "          exptl{\n",
    "            method\n",
    "          }\n",
    "          rcsb_accession_info {\n",
    "            initial_release_date,\n",
    "            deposit_date\n",
    "          }\n",
    "          rcsb_entry_info {\n",
    "            resolution_combined\n",
    "          }\n",
    "        }\n",
    "      }\n",
    "    }\n",
    "    '''\n",
    "    \n",
    "    string = '\"' + '\", \"'.join(entities) + '\"'\n",
    "    request = string.join(request.split('?'))\n",
    "    url = 'https://data.rcsb.org/graphql?query=' + urllib.parse.quote_plus(request)\n",
    "    return url\n",
    "\n",
    "\n",
    "def get_rscb_json(url, num_tries=5, timeout=5):\n",
    "    for i in range(num_tries):\n",
    "        try:\n",
    "            with urllib.request.urlopen(url) as f:\n",
    "                result = json.loads(f.read().decode())\n",
    "        except urllib.error.HTTPError:\n",
    "            print('HTTPError. Trying again' if i != num_tries - 1 else '. Reached max number of trials')\n",
    "            result = {}\n",
    "            sleep(timeout)\n",
    "        if result:\n",
    "            break\n",
    "    return result\n",
    "\n",
    "\n",
    "def load_entities_list_in_chunks(entities_list, chunk_size=1000, timeout=5):\n",
    "    out = []\n",
    "    for idx in tqdm.tqdm(range(0, len(entities_list), chunk_size)):\n",
    "        chunk = entities_list[idx:idx + chunk_size]\n",
    "        url = format_request(chunk)\n",
    "        chunk_result = get_rscb_json(url)\n",
    "        out += chunk_result['data']['polymer_entities']\n",
    "    return out\n",
    "\n",
    "\n",
    "#url = format_request([\"4HHB_1\", \"1H8E_4\"])\n",
    "#get_rscb_json(url)\n",
    "'3EHD_1'\n",
    "load_entities_list_in_chunks([\"4HHB_1\", \"1H8E_4\"])"
   ]
  },
  {
   "cell_type": "code",
   "execution_count": 4,
   "id": "7a93788b",
   "metadata": {},
   "outputs": [],
   "source": [
    "#load_entities_list_in_chunks([\"3EHD_1\", '4HHB_1'])"
   ]
  },
  {
   "cell_type": "code",
   "execution_count": 5,
   "id": "783a905f",
   "metadata": {},
   "outputs": [],
   "source": [
    "case_msa_dirs = sorted(msa_dir.glob('*'))"
   ]
  },
  {
   "cell_type": "code",
   "execution_count": 6,
   "id": "c4e622db",
   "metadata": {},
   "outputs": [
    {
     "name": "stderr",
     "output_type": "stream",
     "text": [
      "100%|███████████████████████████████████████████████████████████████████████████████████████████████████████████████████████████████████████████████████████████████████████| 15/15 [00:33<00:00,  2.24s/it]\n"
     ]
    }
   ],
   "source": [
    "entities_list = [x.basename().split('.')[0].upper() for x in case_msa_dirs]\n",
    "entities_rcsb_info = load_entities_list_in_chunks(entities_list)\n",
    "entities_rcsb_info = {x['rcsb_polymer_entity_container_identifiers']['rcsb_id']: x for x in entities_rcsb_info}"
   ]
  },
  {
   "cell_type": "code",
   "execution_count": 7,
   "id": "208b1599",
   "metadata": {},
   "outputs": [
    {
     "data": {
      "text/plain": [
       "{'rcsb_cluster_membership': [{'cluster_id': 58960, 'identity': 100},\n",
       "  {'cluster_id': 66123, 'identity': 95},\n",
       "  {'cluster_id': 16409, 'identity': 90},\n",
       "  {'cluster_id': 11075, 'identity': 70},\n",
       "  {'cluster_id': 11542, 'identity': 50},\n",
       "  {'cluster_id': 10275, 'identity': 30}],\n",
       " 'rcsb_polymer_entity_container_identifiers': {'rcsb_id': '19HC_1'},\n",
       " 'entry': {'exptl': [{'method': 'X-RAY DIFFRACTION'}],\n",
       "  'rcsb_accession_info': {'initial_release_date': '1999-12-01T00:00:00Z',\n",
       "   'deposit_date': '1998-12-01T00:00:00Z'},\n",
       "  'rcsb_entry_info': {'resolution_combined': [1.8]}}}"
      ]
     },
     "execution_count": 7,
     "metadata": {},
     "output_type": "execute_result"
    }
   ],
   "source": [
    "list(entities_rcsb_info.values())[0]"
   ]
  },
  {
   "cell_type": "code",
   "execution_count": 9,
   "id": "1391582f",
   "metadata": {
    "scrolled": true
   },
   "outputs": [
    {
     "name": "stderr",
     "output_type": "stream",
     "text": [
      "  2%|██▉                                                                                                                                                                | 265/14950 [00:21<19:48, 12.35it/s]Traceback (most recent call last):\n",
      "  File \"/tmp/ipykernel_79549/2442026332.py\", line 26, in <module>\n",
      "    ag = prody.parseMMCIF(cif_file)\n",
      "  File \"/home/ignatovmg/projects/pdb_tools/venv/lib/python3.7/site-packages/prody/proteins/ciffile.py\", line 110, in parseMMCIF\n",
      "    result = parseMMCIFStream(cif, chain=chain, **kwargs)\n",
      "  File \"/home/ignatovmg/projects/pdb_tools/venv/lib/python3.7/site-packages/prody/proteins/ciffile.py\", line 181, in parseMMCIFStream\n",
      "    altloc, header)\n",
      "  File \"/home/ignatovmg/projects/pdb_tools/venv/lib/python3.7/site-packages/prody/proteins/ciffile.py\", line 233, in _parseMMCIFLines\n",
      "    models.append(line.split()[fields['pdbx_PDB_model_num']])\n",
      "KeyError: 'pdbx_PDB_model_num'\n",
      "  2%|██▉                                                                                                                                                                | 267/14950 [00:21<17:33, 13.94it/s]"
     ]
    },
    {
     "name": "stdout",
     "output_type": "stream",
     "text": [
      "Could not parse data/15k/folding/cifs/1dhk.cif\n"
     ]
    },
    {
     "name": "stderr",
     "output_type": "stream",
     "text": [
      "  2%|███▊                                                                                                                                                               | 352/14950 [00:27<22:36, 10.76it/s]Traceback (most recent call last):\n",
      "  File \"/tmp/ipykernel_79549/2442026332.py\", line 26, in <module>\n",
      "    ag = prody.parseMMCIF(cif_file)\n",
      "  File \"/home/ignatovmg/projects/pdb_tools/venv/lib/python3.7/site-packages/prody/proteins/ciffile.py\", line 110, in parseMMCIF\n",
      "    result = parseMMCIFStream(cif, chain=chain, **kwargs)\n",
      "  File \"/home/ignatovmg/projects/pdb_tools/venv/lib/python3.7/site-packages/prody/proteins/ciffile.py\", line 181, in parseMMCIFStream\n",
      "    altloc, header)\n",
      "  File \"/home/ignatovmg/projects/pdb_tools/venv/lib/python3.7/site-packages/prody/proteins/ciffile.py\", line 233, in _parseMMCIFLines\n",
      "    models.append(line.split()[fields['pdbx_PDB_model_num']])\n",
      "KeyError: 'pdbx_PDB_model_num'\n",
      "  2%|███▉                                                                                                                                                               | 356/14950 [00:28<21:20, 11.40it/s]"
     ]
    },
    {
     "name": "stdout",
     "output_type": "stream",
     "text": [
      "Could not parse data/15k/folding/cifs/1el4.cif\n"
     ]
    },
    {
     "name": "stderr",
     "output_type": "stream",
     "text": [
      "  9%|█████████████▉                                                                                                                                                    | 1286/14950 [01:55<18:43, 12.17it/s]Traceback (most recent call last):\n",
      "  File \"/tmp/ipykernel_79549/2442026332.py\", line 26, in <module>\n",
      "    ag = prody.parseMMCIF(cif_file)\n",
      "  File \"/home/ignatovmg/projects/pdb_tools/venv/lib/python3.7/site-packages/prody/proteins/ciffile.py\", line 110, in parseMMCIF\n",
      "    result = parseMMCIFStream(cif, chain=chain, **kwargs)\n",
      "  File \"/home/ignatovmg/projects/pdb_tools/venv/lib/python3.7/site-packages/prody/proteins/ciffile.py\", line 181, in parseMMCIFStream\n",
      "    altloc, header)\n",
      "  File \"/home/ignatovmg/projects/pdb_tools/venv/lib/python3.7/site-packages/prody/proteins/ciffile.py\", line 233, in _parseMMCIFLines\n",
      "    models.append(line.split()[fields['pdbx_PDB_model_num']])\n",
      "KeyError: 'pdbx_PDB_model_num'\n"
     ]
    },
    {
     "name": "stdout",
     "output_type": "stream",
     "text": [
      "Could not parse data/15k/folding/cifs/1ovo.cif\n"
     ]
    },
    {
     "name": "stderr",
     "output_type": "stream",
     "text": [
      " 10%|████████████████▉                                                                                                                                                 | 1563/14950 [02:18<17:59, 12.40it/s]"
     ]
    },
    {
     "name": "stdout",
     "output_type": "stream",
     "text": [
      "Mismatching sequences in data/15k/folding/cifs/1rrx.cif 1\n"
     ]
    },
    {
     "name": "stderr",
     "output_type": "stream",
     "text": [
      " 11%|██████████████████▎                                                                                                                                               | 1694/14950 [02:29<19:39, 11.24it/s]"
     ]
    },
    {
     "name": "stdout",
     "output_type": "stream",
     "text": [
      "Mismatching sequences in data/15k/folding/cifs/1t6j.cif 1\n"
     ]
    },
    {
     "name": "stderr",
     "output_type": "stream",
     "text": [
      " 19%|██████████████████████████████▏                                                                                                                                   | 2790/14950 [04:06<14:42, 13.78it/s]Traceback (most recent call last):\n",
      "  File \"/tmp/ipykernel_79549/2442026332.py\", line 26, in <module>\n",
      "    ag = prody.parseMMCIF(cif_file)\n",
      "  File \"/home/ignatovmg/projects/pdb_tools/venv/lib/python3.7/site-packages/prody/proteins/ciffile.py\", line 110, in parseMMCIF\n",
      "    result = parseMMCIFStream(cif, chain=chain, **kwargs)\n",
      "  File \"/home/ignatovmg/projects/pdb_tools/venv/lib/python3.7/site-packages/prody/proteins/ciffile.py\", line 181, in parseMMCIFStream\n",
      "    altloc, header)\n",
      "  File \"/home/ignatovmg/projects/pdb_tools/venv/lib/python3.7/site-packages/prody/proteins/ciffile.py\", line 233, in _parseMMCIFLines\n",
      "    models.append(line.split()[fields['pdbx_PDB_model_num']])\n",
      "KeyError: 'pdbx_PDB_model_num'\n",
      " 19%|██████████████████████████████▎                                                                                                                                   | 2793/14950 [04:06<12:20, 16.41it/s]"
     ]
    },
    {
     "name": "stdout",
     "output_type": "stream",
     "text": [
      "Could not parse data/15k/folding/cifs/2cb5.cif\n"
     ]
    },
    {
     "name": "stderr",
     "output_type": "stream",
     "text": [
      " 24%|███████████████████████████████████████▏                                                                                                                          | 3613/14950 [05:16<10:02, 18.81it/s]"
     ]
    },
    {
     "name": "stdout",
     "output_type": "stream",
     "text": [
      "Mismatching sequences in data/15k/folding/cifs/2ib5.cif 1\n"
     ]
    },
    {
     "name": "stderr",
     "output_type": "stream",
     "text": [
      " 26%|██████████████████████████████████████████▍                                                                                                                       | 3920/14950 [05:44<21:18,  8.63it/s]"
     ]
    },
    {
     "name": "stdout",
     "output_type": "stream",
     "text": [
      "Mismatching sequences in data/15k/folding/cifs/2o6y.cif 1\n"
     ]
    },
    {
     "name": "stderr",
     "output_type": "stream",
     "text": [
      " 36%|███████████████████████████████████████████████████████████                                                                                                       | 5447/14950 [08:20<14:07, 11.21it/s]"
     ]
    },
    {
     "name": "stdout",
     "output_type": "stream",
     "text": [
      "Mismatching sequences in data/15k/folding/cifs/3ai5.cif 1\n"
     ]
    },
    {
     "name": "stderr",
     "output_type": "stream",
     "text": [
      " 37%|███████████████████████████████████████████████████████████▎                                                                                                      | 5468/14950 [08:24<16:21,  9.66it/s]"
     ]
    },
    {
     "name": "stdout",
     "output_type": "stream",
     "text": [
      "Mismatching sequences in data/15k/folding/cifs/3ako.cif 1\n"
     ]
    },
    {
     "name": "stderr",
     "output_type": "stream",
     "text": [
      " 41%|█████████████████████████████████████████████████████████████████▊                                                                                                | 6076/14950 [09:50<11:35, 12.76it/s]"
     ]
    },
    {
     "name": "stdout",
     "output_type": "stream",
     "text": [
      "Mismatching sequences in data/15k/folding/cifs/3dip.cif 1\n"
     ]
    },
    {
     "name": "stderr",
     "output_type": "stream",
     "text": [
      " 42%|████████████████████████████████████████████████████████████████████                                                                                              | 6276/14950 [10:07<19:17,  7.50it/s]"
     ]
    },
    {
     "name": "stdout",
     "output_type": "stream",
     "text": [
      "No info for  3EHD_1\n"
     ]
    },
    {
     "name": "stderr",
     "output_type": "stream",
     "text": [
      " 42%|████████████████████████████████████████████████████████████████████▋                                                                                             | 6340/14950 [10:12<08:38, 16.62it/s]"
     ]
    },
    {
     "name": "stdout",
     "output_type": "stream",
     "text": [
      "Mismatching sequences in data/15k/folding/cifs/3evp.cif 1\n"
     ]
    },
    {
     "name": "stderr",
     "output_type": "stream",
     "text": [
      " 43%|██████████████████████████████████████████████████████████████████████▍                                                                                           | 6502/14950 [10:22<10:51, 12.97it/s]Traceback (most recent call last):\n",
      "  File \"/tmp/ipykernel_79549/2442026332.py\", line 26, in <module>\n",
      "    ag = prody.parseMMCIF(cif_file)\n",
      "  File \"/home/ignatovmg/projects/pdb_tools/venv/lib/python3.7/site-packages/prody/proteins/ciffile.py\", line 110, in parseMMCIF\n",
      "    result = parseMMCIFStream(cif, chain=chain, **kwargs)\n",
      "  File \"/home/ignatovmg/projects/pdb_tools/venv/lib/python3.7/site-packages/prody/proteins/ciffile.py\", line 181, in parseMMCIFStream\n",
      "    altloc, header)\n",
      "  File \"/home/ignatovmg/projects/pdb_tools/venv/lib/python3.7/site-packages/prody/proteins/ciffile.py\", line 233, in _parseMMCIFLines\n",
      "    models.append(line.split()[fields['pdbx_PDB_model_num']])\n",
      "KeyError: 'pdbx_PDB_model_num'\n",
      "Traceback (most recent call last):\n",
      "  File \"/tmp/ipykernel_79549/2442026332.py\", line 26, in <module>\n",
      "    ag = prody.parseMMCIF(cif_file)\n",
      "  File \"/home/ignatovmg/projects/pdb_tools/venv/lib/python3.7/site-packages/prody/proteins/ciffile.py\", line 110, in parseMMCIF\n",
      "    result = parseMMCIFStream(cif, chain=chain, **kwargs)\n",
      "  File \"/home/ignatovmg/projects/pdb_tools/venv/lib/python3.7/site-packages/prody/proteins/ciffile.py\", line 181, in parseMMCIFStream\n",
      "    altloc, header)\n",
      "  File \"/home/ignatovmg/projects/pdb_tools/venv/lib/python3.7/site-packages/prody/proteins/ciffile.py\", line 233, in _parseMMCIFLines\n",
      "    models.append(line.split()[fields['pdbx_PDB_model_num']])\n",
      "KeyError: 'pdbx_PDB_model_num'\n"
     ]
    },
    {
     "name": "stdout",
     "output_type": "stream",
     "text": [
      "Could not parse data/15k/folding/cifs/3flo.cif\n",
      "Could not parse data/15k/folding/cifs/3flo.cif\n"
     ]
    },
    {
     "name": "stderr",
     "output_type": "stream",
     "text": [
      " 44%|███████████████████████████████████████████████████████████████████████▉                                                                                          | 6637/14950 [10:33<10:33, 13.11it/s]"
     ]
    },
    {
     "name": "stdout",
     "output_type": "stream",
     "text": [
      "Mismatching sequences in data/15k/folding/cifs/3gb3.cif 1\n"
     ]
    },
    {
     "name": "stderr",
     "output_type": "stream",
     "text": [
      " 50%|████████████████████████████████████████████████████████████████████████████████▎                                                                                 | 7409/14950 [11:40<10:50, 11.59it/s]"
     ]
    },
    {
     "name": "stdout",
     "output_type": "stream",
     "text": [
      "No info for  3KWT_1\n"
     ]
    },
    {
     "name": "stderr",
     "output_type": "stream",
     "text": [
      " 52%|████████████████████████████████████████████████████████████████████████████████████▉                                                                             | 7833/14950 [12:20<13:50,  8.57it/s]"
     ]
    },
    {
     "name": "stdout",
     "output_type": "stream",
     "text": [
      "No info for  3N3C_1\n"
     ]
    },
    {
     "name": "stderr",
     "output_type": "stream",
     "text": [
      " 54%|███████████████████████████████████████████████████████████████████████████████████████▉                                                                          | 8113/14950 [12:46<10:47, 10.55it/s]"
     ]
    },
    {
     "name": "stdout",
     "output_type": "stream",
     "text": [
      "Mismatching sequences in data/15k/folding/cifs/3osr.cif 1\n"
     ]
    },
    {
     "name": "stderr",
     "output_type": "stream",
     "text": [
      " 57%|████████████████████████████████████████████████████████████████████████████████████████████▋                                                                     | 8557/14950 [13:26<16:48,  6.34it/s]"
     ]
    },
    {
     "name": "stdout",
     "output_type": "stream",
     "text": [
      "Mismatching sequences in data/15k/folding/cifs/3rwa.cif 1\n"
     ]
    },
    {
     "name": "stderr",
     "output_type": "stream",
     "text": [
      " 62%|███████████████████████████████████████████████████████████████████████████████████████████████████▋                                                              | 9202/14950 [14:31<14:51,  6.45it/s]"
     ]
    },
    {
     "name": "stdout",
     "output_type": "stream",
     "text": [
      "No info for  3WXW_3\n"
     ]
    },
    {
     "name": "stderr",
     "output_type": "stream",
     "text": [
      " 65%|█████████████████████████████████████████████████████████████████████████████████████████████████████████▋                                                        | 9757/14950 [15:31<06:50, 12.65it/s]"
     ]
    },
    {
     "name": "stdout",
     "output_type": "stream",
     "text": [
      "Mismatching sequences in data/15k/folding/cifs/4dkn.cif 1\n"
     ]
    },
    {
     "name": "stderr",
     "output_type": "stream",
     "text": [
      " 66%|███████████████████████████████████████████████████████████████████████████████████████████████████████████▏                                                      | 9893/14950 [15:43<06:04, 13.89it/s]"
     ]
    },
    {
     "name": "stdout",
     "output_type": "stream",
     "text": [
      "No info for  4ELN_1\n"
     ]
    },
    {
     "name": "stderr",
     "output_type": "stream",
     "text": [
      " 69%|███████████████████████████████████████████████████████████████████████████████████████████████████████████████▋                                                 | 10372/14950 [16:27<06:17, 12.12it/s]"
     ]
    },
    {
     "name": "stdout",
     "output_type": "stream",
     "text": [
      "Mismatching sequences in data/15k/folding/cifs/4i2y.cif 1\n"
     ]
    },
    {
     "name": "stderr",
     "output_type": "stream",
     "text": [
      " 71%|██████████████████████████████████████████████████████████████████████████████████████████████████████████████████▏                                              | 10601/14950 [16:49<07:16,  9.97it/s]"
     ]
    },
    {
     "name": "stdout",
     "output_type": "stream",
     "text": [
      "Mismatching sequences in data/15k/folding/cifs/4jrb.cif 1\n"
     ]
    },
    {
     "name": "stderr",
     "output_type": "stream",
     "text": [
      " 74%|███████████████████████████████████████████████████████████████████████████████████████████████████████████████████████▋                                         | 11112/14950 [17:42<06:05, 10.50it/s]"
     ]
    },
    {
     "name": "stdout",
     "output_type": "stream",
     "text": [
      "Mismatching sequences in data/15k/folding/cifs/4ndj.cif 1\n"
     ]
    },
    {
     "name": "stderr",
     "output_type": "stream",
     "text": [
      " 76%|██████████████████████████████████████████████████████████████████████████████████████████████████████████████████████████                                       | 11329/14950 [18:02<04:19, 13.95it/s]"
     ]
    },
    {
     "name": "stdout",
     "output_type": "stream",
     "text": [
      "Mismatching sequences in data/15k/folding/cifs/4oy4.cif 1\n"
     ]
    },
    {
     "name": "stderr",
     "output_type": "stream",
     "text": [
      " 76%|██████████████████████████████████████████████████████████████████████████████████████████████████████████████████████████▎                                      | 11363/14950 [18:06<09:08,  6.54it/s]"
     ]
    },
    {
     "name": "stdout",
     "output_type": "stream",
     "text": [
      "No info for  4P63_1\n"
     ]
    },
    {
     "name": "stderr",
     "output_type": "stream",
     "text": [
      " 76%|██████████████████████████████████████████████████████████████████████████████████████████████████████████████████████████▌                                      | 11380/14950 [18:08<08:03,  7.38it/s]"
     ]
    },
    {
     "name": "stdout",
     "output_type": "stream",
     "text": [
      "Mismatching sequences in data/15k/folding/cifs/4pa0.cif 1\n"
     ]
    },
    {
     "name": "stderr",
     "output_type": "stream",
     "text": [
      " 78%|██████████████████████████████████████████████████████████████████████████████████████████████████████████████████████████████▏                                  | 11717/14950 [18:43<07:25,  7.26it/s]"
     ]
    },
    {
     "name": "stdout",
     "output_type": "stream",
     "text": [
      "No info for  4RMX_1\n"
     ]
    },
    {
     "name": "stderr",
     "output_type": "stream",
     "text": [
      " 79%|███████████████████████████████████████████████████████████████████████████████████████████████████████████████████████████████▋                                 | 11851/14950 [18:56<07:18,  7.07it/s]"
     ]
    },
    {
     "name": "stdout",
     "output_type": "stream",
     "text": [
      "Mismatching sequences in data/15k/folding/cifs/4u2v.cif 1\n"
     ]
    },
    {
     "name": "stderr",
     "output_type": "stream",
     "text": [
      " 81%|██████████████████████████████████████████████████████████████████████████████████████████████████████████████████████████████████▎                              | 12099/14950 [19:22<14:43,  3.23it/s]"
     ]
    },
    {
     "name": "stdout",
     "output_type": "stream",
     "text": [
      "Mismatching sequences in data/15k/folding/cifs/4xbi.cif 1\n"
     ]
    },
    {
     "name": "stderr",
     "output_type": "stream",
     "text": [
      " 83%|█████████████████████████████████████████████████████████████████████████████████████████████████████████████████████████████████████                            | 12358/14950 [19:49<04:58,  8.67it/s]"
     ]
    },
    {
     "name": "stdout",
     "output_type": "stream",
     "text": [
      "Mismatching sequences in data/15k/folding/cifs/4zf3.cif 1\n"
     ]
    },
    {
     "name": "stderr",
     "output_type": "stream",
     "text": [
      " 83%|█████████████████████████████████████████████████████████████████████████████████████████████████████████████████████████████████████▉                           | 12442/14950 [19:58<04:30,  9.28it/s]"
     ]
    },
    {
     "name": "stdout",
     "output_type": "stream",
     "text": [
      "No info for  5A0J_1\n"
     ]
    },
    {
     "name": "stderr",
     "output_type": "stream",
     "text": [
      " 91%|█████████████████████████████████████████████████████████████████████████████████████████████████████████████████████████████████████████████████▋               | 13530/14950 [22:01<02:23,  9.92it/s]"
     ]
    },
    {
     "name": "stdout",
     "output_type": "stream",
     "text": [
      "Mismatching sequences in data/15k/folding/cifs/5j3n.cif 1\n"
     ]
    },
    {
     "name": "stderr",
     "output_type": "stream",
     "text": [
      " 91%|██████████████████████████████████████████████████████████████████████████████████████████████████████████████████████████████████████████████████▉              | 13641/14950 [22:15<02:13,  9.82it/s]"
     ]
    },
    {
     "name": "stdout",
     "output_type": "stream",
     "text": [
      "No info for  5JX6_1\n"
     ]
    },
    {
     "name": "stderr",
     "output_type": "stream",
     "text": [
      " 91%|██████████████████████████████████████████████████████████████████████████████████████████████████████████████████████████████████████████████████▉              | 13648/14950 [22:16<02:36,  8.31it/s]"
     ]
    },
    {
     "name": "stdout",
     "output_type": "stream",
     "text": [
      "No info for  5JZZ_1\n"
     ]
    },
    {
     "name": "stderr",
     "output_type": "stream",
     "text": [
      " 92%|████████████████████████████████████████████████████████████████████████████████████████████████████████████████████████████████████████████████████▎            | 13769/14950 [22:30<01:54, 10.33it/s]"
     ]
    },
    {
     "name": "stdout",
     "output_type": "stream",
     "text": [
      "No info for  5L9M_1\n"
     ]
    },
    {
     "name": "stderr",
     "output_type": "stream",
     "text": [
      " 94%|██████████████████████████████████████████████████████████████████████████████████████████████████████████████████████████████████████████████████████▋          | 13994/14950 [23:03<01:54,  8.32it/s]"
     ]
    },
    {
     "name": "stdout",
     "output_type": "stream",
     "text": [
      "No info for  5N7S_1\n"
     ]
    },
    {
     "name": "stderr",
     "output_type": "stream",
     "text": [
      " 94%|██████████████████████████████████████████████████████████████████████████████████████████████████████████████████████████████████████████████████████▊          | 14004/14950 [23:04<01:10, 13.35it/s]"
     ]
    },
    {
     "name": "stdout",
     "output_type": "stream",
     "text": [
      "No info for  5NBR_1\n"
     ]
    },
    {
     "name": "stderr",
     "output_type": "stream",
     "text": [
      " 96%|██████████████████████████████████████████████████████████████████████████████████████████████████████████████████████████████████████████████████████████▎      | 14328/14950 [23:48<01:28,  6.99it/s]"
     ]
    },
    {
     "name": "stdout",
     "output_type": "stream",
     "text": [
      "No info for  5UC2_1\n"
     ]
    },
    {
     "name": "stderr",
     "output_type": "stream",
     "text": [
      " 96%|██████████████████████████████████████████████████████████████████████████████████████████████████████████████████████████████████████████████████████████▊      | 14375/14950 [23:53<01:16,  7.49it/s]"
     ]
    },
    {
     "name": "stdout",
     "output_type": "stream",
     "text": [
      "No info for  5USC_1\n"
     ]
    },
    {
     "name": "stderr",
     "output_type": "stream",
     "text": [
      " 97%|████████████████████████████████████████████████████████████████████████████████████████████████████████████████████████████████████████████████████████████▉    | 14572/14950 [24:17<00:45,  8.26it/s]"
     ]
    },
    {
     "name": "stdout",
     "output_type": "stream",
     "text": [
      "No info for  5WVQ_1\n"
     ]
    },
    {
     "name": "stderr",
     "output_type": "stream",
     "text": [
      "100%|█████████████████████████████████████████████████████████████████████████████████████████████████████████████████████████████████████████████████████████████████| 14950/14950 [25:00<00:00,  9.96it/s]\n"
     ]
    }
   ],
   "source": [
    "cases = []\n",
    "\n",
    "letters = list('ACDEFGHIKLMNPQRSTVWYX')\n",
    "assert len(letters) == 21, len(letters)\n",
    "\n",
    "\n",
    "def loop_to_list(block, category):\n",
    "    cat = block.find_mmcif_category(category)\n",
    "    assert len(cat) > 0, (category, 'does not exist')\n",
    "    out = []\n",
    "    for row in cat:\n",
    "        row_dict = OrderedDict()\n",
    "        for key in cat.tags:\n",
    "            row_dict[key] = row[key[cat.prefix_length:]]\n",
    "        out.append(row_dict)\n",
    "    return out\n",
    "\n",
    "\n",
    "for case_msa_dir in tqdm.tqdm(case_msa_dirs):\n",
    "    #case_msa_dir = case_msa_dirs[0]\n",
    "    pdb_id = case_msa_dir.basename()[:4]\n",
    "    case_entity_id = case_msa_dir.basename().split('.')[0][5:]\n",
    "    \n",
    "    cif_file = cif_dir / pdb_id + '.cif'\n",
    "    try:\n",
    "        ag = prody.parseMMCIF(cif_file)\n",
    "        assert ag is not None\n",
    "    except KeyboardInterrupt:\n",
    "        raise\n",
    "    except:\n",
    "        print('Could not parse', cif_file)\n",
    "        traceback.print_exc()\n",
    "        continue\n",
    "    \n",
    "    cif_parsed = cif.read_file(cif_file).sole_block()\n",
    "    entity_id_to_asym_id = defaultdict(list)\n",
    "    table = cif_parsed.find_mmcif_category('_struct_asym')\n",
    "    for asym_id, entity_id in zip(table.find_column('id'), table.find_column('entity_id')):\n",
    "        entity_id_to_asym_id[entity_id].append(asym_id)\n",
    "        \n",
    "    # parse entity poly seq, to compare with the pdbx_seq_one_letter_code_can\n",
    "    # this is necessary because for example in 1t6j_1 \n",
    "    # len(_entity_poly.pdbx_seq_one_letter_code) == len(_entity_poly_seq) == 174 and\n",
    "    # len(_entity_poly.pdbx_seq_one_letter_code_can) == 176 due to some mistake,\n",
    "    # so we skip such cases\n",
    "    entity_poly_seq = loop_to_list(cif_parsed, '_entity_poly_seq')\n",
    "    entity_poly_seq = [x for x in entity_poly_seq if x['_entity_poly_seq.entity_id'] == case_entity_id]\n",
    "\n",
    "    # alt locations have the same residue number,\n",
    "    # keep only the first one to match the pdbx_seq_one_letter_code_can string\n",
    "    seen_ids = []\n",
    "    buf = []\n",
    "    for item in entity_poly_seq:\n",
    "        if item['_entity_poly_seq.num'] not in seen_ids:\n",
    "            seen_ids.append(item['_entity_poly_seq.num'])\n",
    "            buf.append(item)\n",
    "    entity_poly_seq = buf\n",
    "\n",
    "    entity_info = None\n",
    "    table = cif_parsed.find_mmcif_category('_entity_poly')\n",
    "    for entity_id, pdbx_strand_id, pdbx_seq_one_letter_code_can in zip(\n",
    "        table.find_column('entity_id'), \n",
    "        table.find_column('pdbx_strand_id'), \n",
    "        table.find_column('pdbx_seq_one_letter_code_can')\n",
    "    ):\n",
    "        #print(pdbx_seq_one_letter_code_can)\n",
    "        seq_conv = pdbx_seq_one_letter_code_can.replace('\\n', '').replace(';', '').replace('U', 'X').replace('O', 'X')\n",
    "        if case_entity_id == entity_id:\n",
    "            entity_info = OrderedDict(\n",
    "                entity_id=entity_id,\n",
    "                pdbx_strand_ids=pdbx_strand_id.split(','),\n",
    "                asym_ids=entity_id_to_asym_id[entity_id],\n",
    "                pdbx_seq_one_letter_code_can=seq_conv\n",
    "            )\n",
    "            assert all([aa in letters for aa in seq_conv]), (case_msa_dir, seq_conv, set(seq_conv) - set(letters))\n",
    "    assert entity_info is not None, (cif_file, case_entity_id)\n",
    "    \n",
    "    if len(entity_info['pdbx_seq_one_letter_code_can']) != len(entity_poly_seq):\n",
    "        print('Mismatching sequences in', cif_file, case_entity_id)\n",
    "        continue\n",
    "        \n",
    "    # TODO: res < 9A, add seq clusters 40%\n",
    "    rcsb_key = case_msa_dir.basename().split('.')[0].upper()\n",
    "    if rcsb_key not in entities_rcsb_info:\n",
    "        print('No info for ', rcsb_key)\n",
    "        continue\n",
    "    \n",
    "    case_dict = OrderedDict(\n",
    "        pdb_id=pdb_id,\n",
    "        entity_id=case_entity_id,\n",
    "        entity_info=entity_info,\n",
    "        cif_file=cif_file.relpath(dataset_dir),\n",
    "        a3m_files=[\n",
    "            case_msa_dir.relpath(dataset_dir) / 'uniref.a3m',\n",
    "            case_msa_dir.relpath(dataset_dir) / 'bfd.mgnify30.metaeuk30.smag30.a3m'\n",
    "        ],\n",
    "        rcsb_info=entities_rcsb_info[rcsb_key]\n",
    "    )\n",
    "    cases.append(case_dict)"
   ]
  },
  {
   "cell_type": "code",
   "execution_count": 10,
   "id": "9262532d",
   "metadata": {},
   "outputs": [],
   "source": [
    "utils.write_json(cases, 'data/15k/folding/debug_15k.json')"
   ]
  },
  {
   "cell_type": "code",
   "execution_count": 46,
   "id": "d73d17d1",
   "metadata": {},
   "outputs": [
    {
     "data": {
      "text/plain": [
       "7417"
      ]
     },
     "execution_count": 46,
     "metadata": {},
     "output_type": "execute_result"
    }
   ],
   "source": [
    "len(cases)"
   ]
  },
  {
   "cell_type": "code",
   "execution_count": 33,
   "id": "906a6bfa",
   "metadata": {},
   "outputs": [
    {
     "data": {
      "text/plain": [
       "OrderedDict([('pdb_id', '1ci8'),\n",
       "             ('entity_id', '1'),\n",
       "             ('entity_info',\n",
       "              OrderedDict([('entity_id', '1'),\n",
       "                           ('pdbx_strand_ids', ['A', 'B']),\n",
       "                           ('asym_ids', ['A', 'B']),\n",
       "                           ('pdbx_seq_one_letter_code_can',\n",
       "                            'MTAASLDPTAFSLDAASLAARLDAVFDQALRERRLVGAVAIVARHGEILYRRAQGLADREAGRPMREDTLFRLASVTKPIVALAVLRLVARGELALDAPVTRWLPEFRPRLADGSEPLVTIHHLLTHTSGLGYWLLEGAGSVYDRLGISDGIDLRDFDLDENLRRLASAPLSFAPGSGWQYSLALDVLGAVVERATGQPLAAAVDALVAQPLGMRDCGFVSAEPERFAVPYHDGQPEPVRMRDGIEVPLPEGHGAAVRFAPSRVFEPGAYPSGGAGMYGSADDVLRALEAIRANPGFLPETLADAARRDQAGVGAETRGPGWGFGYLSAVLDDPAAAGTPQHAGTLQWGGVYGHSWFVDRALGLSVLLLTNTAYEGMSGPLTIALRDAVYAR')])),\n",
       "             ('cif_file', Path('15k/folding/cifs/1ci8.cif')),\n",
       "             ('a3m_files',\n",
       "              [Path('15k/folding/MMSEQ_submission_second_try/1ci8_1.fa_results/uniref.a3m'),\n",
       "               Path('15k/folding/MMSEQ_submission_second_try/1ci8_1.fa_results/bfd.mgnify30.metaeuk30.smag30.a3m')]),\n",
       "             ('rcsb_info',\n",
       "              {'rcsb_cluster_membership': [{'cluster_id': 33059,\n",
       "                 'identity': 100},\n",
       "                {'cluster_id': 26164, 'identity': 95},\n",
       "                {'cluster_id': 22467, 'identity': 90},\n",
       "                {'cluster_id': 28847, 'identity': 70},\n",
       "                {'cluster_id': 14717, 'identity': 50},\n",
       "                {'cluster_id': 13585, 'identity': 30}],\n",
       "               'rcsb_polymer_entity_container_identifiers': {'rcsb_id': '1CI8_1'},\n",
       "               'entry': {'exptl': [{'method': 'X-RAY DIFFRACTION'}],\n",
       "                'rcsb_accession_info': {'initial_release_date': '2001-12-12T00:00:00Z',\n",
       "                 'deposit_date': '1999-04-08T00:00:00Z'},\n",
       "                'rcsb_entry_info': {'resolution_combined': [2.0]}}})])"
      ]
     },
     "execution_count": 33,
     "metadata": {},
     "output_type": "execute_result"
    }
   ],
   "source": [
    "cases[100]"
   ]
  },
  {
   "cell_type": "code",
   "execution_count": null,
   "id": "df8cad1e",
   "metadata": {},
   "outputs": [],
   "source": []
  }
 ],
 "metadata": {
  "kernelspec": {
   "display_name": "pdbtools",
   "language": "python",
   "name": "pdbtools"
  },
  "language_info": {
   "codemirror_mode": {
    "name": "ipython",
    "version": 3
   },
   "file_extension": ".py",
   "mimetype": "text/x-python",
   "name": "python",
   "nbconvert_exporter": "python",
   "pygments_lexer": "ipython3",
   "version": "3.7.9"
  }
 },
 "nbformat": 4,
 "nbformat_minor": 5
}
